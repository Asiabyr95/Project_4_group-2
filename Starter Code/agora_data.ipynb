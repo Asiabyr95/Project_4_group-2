{
 "cells": [
  {
   "cell_type": "code",
   "execution_count": 29,
   "id": "41f73007-d67c-4d07-972b-130375864224",
   "metadata": {},
   "outputs": [],
   "source": [
    "# Import the required modules\n",
    "import pandas as pd\n",
    "import numpy as np\n",
    "import matplotlib.pyplot as plt\n",
    "import sqlite3\n",
    "import datetime\n",
    "from sqlalchemy import Engine\n",
    "# Plotting\n",
    "import matplotlib.pyplot as plt\n",
    "import seaborn as sns\n",
    "\n",
    "# ORM dependencies\n",
    "from sqlalchemy import create_engine, inspect, text, func\n",
    "\n"
   ]
  },
  {
   "cell_type": "code",
   "execution_count": 30,
   "id": "198804df",
   "metadata": {},
   "outputs": [],
   "source": [
    "# Create the connection engine\n",
    "engine = create_engine(\"sqlite:///data/database.db\")"
   ]
  },
  {
   "cell_type": "code",
   "execution_count": 31,
   "id": "f8805d3f-1f0d-46bd-9e79-621087855469",
   "metadata": {},
   "outputs": [
    {
     "name": "stdout",
     "output_type": "stream",
     "text": [
      "(109689, 9)\n",
      "<class 'pandas.core.frame.DataFrame'>\n",
      "RangeIndex: 109689 entries, 0 to 109688\n",
      "Data columns (total 9 columns):\n",
      " #   Column             Non-Null Count   Dtype \n",
      "---  ------             --------------   ----- \n",
      " 0   Vendor             109689 non-null  object\n",
      " 1    Category          109689 non-null  object\n",
      " 2    Item              109685 non-null  object\n",
      " 3    Item Description  109662 non-null  object\n",
      " 4    Price             109684 non-null  object\n",
      " 5    Origin            99807 non-null   object\n",
      " 6    Destination       60528 non-null   object\n",
      " 7    Rating            109674 non-null  object\n",
      " 8    Remarks           12616 non-null   object\n",
      "dtypes: object(9)\n",
      "memory usage: 7.5+ MB\n"
     ]
    }
   ],
   "source": [
    "df = pd.read_csv(\"Agora.csv\", encoding=\"latin1\")\n",
    "print(df.shape)\n",
    "df.info()"
   ]
  },
  {
   "cell_type": "code",
   "execution_count": 32,
   "id": "dea7d3b2-e9dd-4ee5-ba41-cec7f54e7f40",
   "metadata": {},
   "outputs": [
    {
     "name": "stdout",
     "output_type": "stream",
     "text": [
      "Index(['Vendor', ' Category', ' Item', ' Item Description', ' Price',\n",
      "       ' Origin', ' Destination', ' Rating', ' Remarks'],\n",
      "      dtype='object')\n"
     ]
    }
   ],
   "source": [
    "print(df.columns)"
   ]
  },
  {
   "cell_type": "code",
   "execution_count": 33,
   "id": "d056bfdd-34a4-48b7-8c2d-78df9b509832",
   "metadata": {},
   "outputs": [],
   "source": [
    "df = df.drop(columns=[' Remarks'])"
   ]
  },
  {
   "cell_type": "code",
   "execution_count": 34,
   "id": "04b3cfa6-baf4-4cff-9444-613124e07173",
   "metadata": {},
   "outputs": [
    {
     "name": "stdout",
     "output_type": "stream",
     "text": [
      "<class 'pandas.core.frame.DataFrame'>\n",
      "RangeIndex: 109689 entries, 0 to 109688\n",
      "Data columns (total 8 columns):\n",
      " #   Column             Non-Null Count   Dtype \n",
      "---  ------             --------------   ----- \n",
      " 0   Vendor             109689 non-null  object\n",
      " 1    Category          109689 non-null  object\n",
      " 2    Item              109685 non-null  object\n",
      " 3    Item Description  109662 non-null  object\n",
      " 4    Price             109684 non-null  object\n",
      " 5    Origin            99807 non-null   object\n",
      " 6    Destination       60528 non-null   object\n",
      " 7    Rating            109674 non-null  object\n",
      "dtypes: object(8)\n",
      "memory usage: 6.7+ MB\n"
     ]
    }
   ],
   "source": [
    "df.info()"
   ]
  },
  {
   "cell_type": "code",
   "execution_count": 35,
   "id": "0c9384f8-c829-47fc-9849-1ecc050309e6",
   "metadata": {},
   "outputs": [
    {
     "name": "stdout",
     "output_type": "stream",
     "text": [
      "['Services/Hacking' 'Services/Other' 'Drugs/RCs'\n",
      " 'Forgeries/Physical documents' 'Tobacco/Smoked' 'Services/Money'\n",
      " 'Counterfeits/Money' 'Data/Software' 'Data/Accounts'\n",
      " 'Counterfeits/Clothing' 'Information/eBooks' 'Electronics'\n",
      " 'Drug paraphernalia/Pipes' 'Drugs/Weight loss' 'Data/Pirated'\n",
      " 'Drugs/Steroids' 'Drugs/Prescription' 'Information/Guides'\n",
      " 'Forgeries/Scans/Photos' 'Other' 'Jewelry' 'Drugs/Other'\n",
      " 'Counterfeits/Accessories' 'Counterfeits/Watches' 'Drugs/Cannabis/Weed'\n",
      " 'Drugs/Benzos'\n",
      " 'the Body Bags  shotty  and Mac make-up To: Kind Hearts and Gentle People'\n",
      " 'Drugs/Cannabis/Shake/trim' 'Drugs/Cannabis/Synthetics'\n",
      " 'Drugs/Cannabis/Concentrates' 'Drugs/Cannabis/Seeds'\n",
      " 'Drugs/Cannabis/Hash' 'Drugs/Dissociatives/MXE'\n",
      " 'Drugs/Dissociatives/Ketamine' 'Drugs/Cannabis/Edibles'\n",
      " 'Drugs/Ecstasy/Pills' 'Drugs/Ecstasy/Other' 'Drugs/Stimulants/Meth'\n",
      " 'Drugs/Psychedelics/LSD' 'Drugs/Stimulants/Speed'\n",
      " 'Drugs/Dissociatives/GHB' 'Drugs/Stimulants/Cocaine'\n",
      " 'Drugs/Psychedelics/NB' 'Drugs/Psychedelics/Mushrooms'\n",
      " 'Drugs/Ecstasy/MDMA' 'Drugs/Psychedelics/DMT' 'Weapons/Lethal firearms'\n",
      " 'Drugs/Stimulants/Prescription' 'Drugs/Ecstasy/MDA'\n",
      " 'Drugs/Psychedelics/Others' 'Drugs/Psychedelics/Mescaline'\n",
      " 'Drugs/Psychedelics/2C' 'Drugs/Opioids' 'Info/eBooks/Anonymity'\n",
      " 'Info/eBooks/Relationships/Sex' 'Drug paraphernalia/Stashes'\n",
      " 'Info/eBooks/Economy' 'Services/Advertising' 'Info/eBooks/Politics'\n",
      " 'Drugs/Opioids/Morphine' 'Drugs/Opioids/Other' 'Drugs/Opioids/Heroin'\n",
      " 'Info/eBooks/Science' 'Weapons/Melee' 'Info/eBooks/Other'\n",
      " 'Info/eBooks/Drugs' 'Drugs/Opioids/Fentanyl' 'Drugs/Opioids/Oxycodone'\n",
      " 'Drugs/Psychedelics/5-MeO' 'Drugs/Opioids/Buprenorphine'\n",
      " 'Drug paraphernalia/Containers' 'Drugs/Psychedelics/Other'\n",
      " 'Info/eBooks/Doomsday' 'Info/eBooks/IT' 'Info/eBooks/Psychology'\n",
      " 'Info/eBooks/Making money' 'Weapons/Non-lethal firearms'\n",
      " 'Tobacco/Paraphernalia' 'Forgeries/Other' 'Weapons/Ammunition'\n",
      " 'home of the Body Bags  shotty  and mag  Kind Hearts and Gentle People'\n",
      " 'Forgeries' 'Chemicals' 'Drugs/Psychedelics/Spores'\n",
      " 'Drugs/Opioids/Hydrocodone' 'Info/eBooks/Philosophy'\n",
      " 'Drugs/Dissociatives/Other' '0.12780125125 BTC' 'Drugs/Opioids/Codeine'\n",
      " 'Drug paraphernalia/Grinders' 'Info/eBooks/Aliens/UFOs'\n",
      " 'Drug paraphernalia/Paper' 'Services/Travel' '0.1905617980645162 BTC'\n",
      " 'Drugs/Opioids/Dihydrocodeine' 'Drugs/Stimulants/Mephedrone'\n",
      " 'the Body Bags  shotty  and mag To: Kind Hearts and Gentle People'\n",
      " 'Drugs/Dissociatives/GBL' 'Counterfeits/Electronics'\n",
      " 'Drug paraphernalia/Injecting equipment/Syringes' 'Drugs/Opioids/Opium'\n",
      " 'Drug paraphernalia/Injecting equipment/Other'\n",
      " 'Drugs/Psychedelics/Salvia' 'Drugs/Barbiturates' 'Weapons/Fireworks'\n",
      " 'Drug paraphernalia/Scales'\n",
      " 'Drug paraphernalia/Injecting equipment/Filters'\n",
      " 'Drug paraphernalia/Injecting equipment/Needles'\n",
      " 'Drugs/Dissociatives/PCP']\n"
     ]
    }
   ],
   "source": [
    "print(df[\" Category\"].unique())"
   ]
  },
  {
   "cell_type": "code",
   "execution_count": 36,
   "id": "b545b698-2286-40ca-ad53-c206aa7c6ded",
   "metadata": {},
   "outputs": [
    {
     "name": "stdout",
     "output_type": "stream",
     "text": [
      "       Vendor   Category                               Item  \\\n",
      "124  mssource  Drugs/RCs                    4-FMA...!! 1 KG   \n",
      "125      FREE  Drugs/RCs  200gr. 2 FMA FREE SHIP WITH TRACK   \n",
      "126  mssource  Drugs/RCs                     3-FA...!! 1 KG   \n",
      "127  mssource  Drugs/RCs                MDDMV...!! 500 GRAM   \n",
      "128  mssource  Drugs/RCs                  3-FA...!! 20 GRAM   \n",
      "\n",
      "                                      Item Description  \\\n",
      "124  PLZ ALWAYS READ MAIN PROFILE BEFORE ORDER ****...   \n",
      "125  2-Fluoromethamphetamine (2-FMA) is a stimulant...   \n",
      "126  PLZ ALWAYS READ MAIN PROFILE BEFORE ORDER ****...   \n",
      "127  PLZ ALWAYS READ MAIN PROFILE BEFORE ORDER ****...   \n",
      "128  PLZ ALWAYS READ MAIN PROFILE BEFORE ORDER ****...   \n",
      "\n",
      "                      Price  Origin  Destination  Rating  \n",
      "124  7.5582225319999985 BTC   World    WORLDWIDE  4.95/5  \n",
      "125  3.3681170859374996 BTC   China          NaN  5.00/5  \n",
      "126   7.670203622941176 BTC   World    WORLDWIDE  4.95/5  \n",
      "127   4.804303127037037 BTC   World    WORLDWIDE  4.95/5  \n",
      "128  0.8006436744444447 BTC   World    WORLDWIDE  4.95/5  \n"
     ]
    }
   ],
   "source": [
    "# Assuming the category column is named 'category'\n",
    "filtered_df = df[df[' Category'].str.startswith(\"Drugs/\", na=False)]\n",
    "\n",
    "# Display the filtered dataset\n",
    "print(filtered_df.head())"
   ]
  },
  {
   "cell_type": "code",
   "execution_count": 37,
   "id": "9dc21913-8089-487d-a7f0-882c28bc916a",
   "metadata": {},
   "outputs": [
    {
     "name": "stdout",
     "output_type": "stream",
     "text": [
      "(109689, 8)\n"
     ]
    },
    {
     "data": {
      "text/html": [
       "<div>\n",
       "<style scoped>\n",
       "    .dataframe tbody tr th:only-of-type {\n",
       "        vertical-align: middle;\n",
       "    }\n",
       "\n",
       "    .dataframe tbody tr th {\n",
       "        vertical-align: top;\n",
       "    }\n",
       "\n",
       "    .dataframe thead th {\n",
       "        text-align: right;\n",
       "    }\n",
       "</style>\n",
       "<table border=\"1\" class=\"dataframe\">\n",
       "  <thead>\n",
       "    <tr style=\"text-align: right;\">\n",
       "      <th></th>\n",
       "      <th>Vendor</th>\n",
       "      <th>Category</th>\n",
       "      <th>Item</th>\n",
       "      <th>Item Description</th>\n",
       "      <th>Price</th>\n",
       "      <th>Origin</th>\n",
       "      <th>Destination</th>\n",
       "      <th>Rating</th>\n",
       "    </tr>\n",
       "  </thead>\n",
       "  <tbody>\n",
       "    <tr>\n",
       "      <th>0</th>\n",
       "      <td>CheapPayTV</td>\n",
       "      <td>Services/Hacking</td>\n",
       "      <td>12 Month HuluPlus gift Code</td>\n",
       "      <td>12-Month HuluPlus Codes for $25. They are wort...</td>\n",
       "      <td>0.05027025666666667 BTC</td>\n",
       "      <td>Torland</td>\n",
       "      <td>NaN</td>\n",
       "      <td>4.96/5</td>\n",
       "    </tr>\n",
       "    <tr>\n",
       "      <th>1</th>\n",
       "      <td>CheapPayTV</td>\n",
       "      <td>Services/Hacking</td>\n",
       "      <td>Pay TV Sky UK  Sky Germany HD TV  and much mor...</td>\n",
       "      <td>Hi we offer a World Wide CCcam  Service for En...</td>\n",
       "      <td>0.152419585 BTC</td>\n",
       "      <td>Torland</td>\n",
       "      <td>NaN</td>\n",
       "      <td>4.96/5</td>\n",
       "    </tr>\n",
       "    <tr>\n",
       "      <th>2</th>\n",
       "      <td>KryptykOG</td>\n",
       "      <td>Services/Hacking</td>\n",
       "      <td>OFFICIAL Account Creator Extreme 4.2</td>\n",
       "      <td>Tagged Submission Fix Bebo Submission Fix Adju...</td>\n",
       "      <td>0.007000000000000005 BTC</td>\n",
       "      <td>Torland</td>\n",
       "      <td>NaN</td>\n",
       "      <td>4.93/5</td>\n",
       "    </tr>\n",
       "    <tr>\n",
       "      <th>3</th>\n",
       "      <td>cyberzen</td>\n",
       "      <td>Services/Hacking</td>\n",
       "      <td>VPN &gt; TOR &gt; SOCK TUTORIAL</td>\n",
       "      <td>How to setup a VPN &gt; TOR &gt; SOCK super safe enc...</td>\n",
       "      <td>0.019016783532494728 BTC</td>\n",
       "      <td>NaN</td>\n",
       "      <td>NaN</td>\n",
       "      <td>4.89/5</td>\n",
       "    </tr>\n",
       "    <tr>\n",
       "      <th>4</th>\n",
       "      <td>businessdude</td>\n",
       "      <td>Services/Hacking</td>\n",
       "      <td>Facebook hacking guide</td>\n",
       "      <td>.  This guide will teach you how to hack Faceb...</td>\n",
       "      <td>0.062018073963963936 BTC</td>\n",
       "      <td>Torland</td>\n",
       "      <td>NaN</td>\n",
       "      <td>4.88/5</td>\n",
       "    </tr>\n",
       "  </tbody>\n",
       "</table>\n",
       "</div>"
      ],
      "text/plain": [
       "         Vendor          Category  \\\n",
       "0    CheapPayTV  Services/Hacking   \n",
       "1    CheapPayTV  Services/Hacking   \n",
       "2     KryptykOG  Services/Hacking   \n",
       "3      cyberzen  Services/Hacking   \n",
       "4  businessdude  Services/Hacking   \n",
       "\n",
       "                                                Item  \\\n",
       "0                        12 Month HuluPlus gift Code   \n",
       "1  Pay TV Sky UK  Sky Germany HD TV  and much mor...   \n",
       "2               OFFICIAL Account Creator Extreme 4.2   \n",
       "3                          VPN > TOR > SOCK TUTORIAL   \n",
       "4                             Facebook hacking guide   \n",
       "\n",
       "                                    Item Description  \\\n",
       "0  12-Month HuluPlus Codes for $25. They are wort...   \n",
       "1  Hi we offer a World Wide CCcam  Service for En...   \n",
       "2  Tagged Submission Fix Bebo Submission Fix Adju...   \n",
       "3  How to setup a VPN > TOR > SOCK super safe enc...   \n",
       "4  .  This guide will teach you how to hack Faceb...   \n",
       "\n",
       "                      Price   Origin  Destination  Rating  \n",
       "0   0.05027025666666667 BTC  Torland          NaN  4.96/5  \n",
       "1           0.152419585 BTC  Torland          NaN  4.96/5  \n",
       "2  0.007000000000000005 BTC  Torland          NaN  4.93/5  \n",
       "3  0.019016783532494728 BTC      NaN          NaN  4.89/5  \n",
       "4  0.062018073963963936 BTC  Torland          NaN  4.88/5  "
      ]
     },
     "execution_count": 37,
     "metadata": {},
     "output_type": "execute_result"
    }
   ],
   "source": [
    "# Display the first few rows to confirm changes\n",
    "print(df.shape)\n",
    "df.head()"
   ]
  },
  {
   "cell_type": "code",
   "execution_count": 38,
   "id": "c949e22d",
   "metadata": {},
   "outputs": [
    {
     "name": "stdout",
     "output_type": "stream",
     "text": [
      "Columns in CSV:\n",
      "['Vendor', ' Category', ' Item', ' Item Description', ' Price', ' Origin', ' Destination', ' Rating']\n",
      "\n",
      "Column names and types:\n",
      "Vendor               object\n",
      " Category            object\n",
      " Item                object\n",
      " Item Description    object\n",
      " Price               object\n",
      " Origin              object\n",
      " Destination         object\n",
      " Rating              object\n",
      "dtype: object\n"
     ]
    }
   ],
   "source": [
    "# Step 1: Load the CSV file\n",
    "\n",
    "df1 = pd.read_csv('Agora_Clean.csv') # type: ignore\n",
    "\n",
    "# Step 2: Show all column names (like table column names)\n",
    "print(\"Columns in CSV:\")\n",
    "print(df.columns.tolist())\n",
    "\n",
    "# Step 3: Show column names and data types (like SQL types)\n",
    "print(\"\\nColumn names and types:\")\n",
    "print(df.dtypes)"
   ]
  },
  {
   "cell_type": "code",
   "execution_count": 39,
   "id": "810783a2",
   "metadata": {},
   "outputs": [],
   "source": [
    "# Create an in-memory SQLite database\n",
    "engine = create_engine('sqlite:///:memory:') # type: ignore\n",
    "df.to_sql('agora_table', con=engine, index=False, if_exists='replace') # type: ignore\n",
    "\n",
    "# Now you can connect and run SQL queries\n",
    "conn = engine.connect()"
   ]
  },
  {
   "cell_type": "code",
   "execution_count": null,
   "id": "5c05be02",
   "metadata": {},
   "outputs": [],
   "source": []
  },
  {
   "cell_type": "code",
   "execution_count": null,
   "id": "169a384c",
   "metadata": {},
   "outputs": [],
   "source": []
  },
  {
   "cell_type": "code",
   "execution_count": null,
   "id": "919c3b78",
   "metadata": {},
   "outputs": [],
   "source": []
  },
  {
   "cell_type": "code",
   "execution_count": null,
   "id": "56d8a6b4",
   "metadata": {},
   "outputs": [],
   "source": []
  },
  {
   "cell_type": "code",
   "execution_count": null,
   "id": "f8c933ad",
   "metadata": {},
   "outputs": [],
   "source": []
  },
  {
   "cell_type": "code",
   "execution_count": null,
   "id": "a13576fc",
   "metadata": {},
   "outputs": [],
   "source": []
  },
  {
   "cell_type": "code",
   "execution_count": null,
   "id": "a1754c65",
   "metadata": {},
   "outputs": [],
   "source": []
  },
  {
   "cell_type": "code",
   "execution_count": null,
   "id": "ea98252c",
   "metadata": {},
   "outputs": [],
   "source": []
  },
  {
   "cell_type": "code",
   "execution_count": null,
   "id": "3e7db26f",
   "metadata": {},
   "outputs": [],
   "source": []
  },
  {
   "cell_type": "code",
   "execution_count": null,
   "id": "882486cf",
   "metadata": {},
   "outputs": [],
   "source": []
  },
  {
   "cell_type": "code",
   "execution_count": null,
   "id": "042be664",
   "metadata": {},
   "outputs": [],
   "source": []
  },
  {
   "cell_type": "code",
   "execution_count": null,
   "id": "60c278c1",
   "metadata": {},
   "outputs": [],
   "source": []
  },
  {
   "cell_type": "code",
   "execution_count": null,
   "id": "0fabbc70",
   "metadata": {},
   "outputs": [],
   "source": []
  },
  {
   "cell_type": "code",
   "execution_count": null,
   "id": "75563b4b",
   "metadata": {},
   "outputs": [],
   "source": []
  },
  {
   "cell_type": "code",
   "execution_count": null,
   "id": "5a788a43",
   "metadata": {},
   "outputs": [],
   "source": []
  },
  {
   "cell_type": "code",
   "execution_count": null,
   "id": "0924fe0d",
   "metadata": {},
   "outputs": [],
   "source": []
  },
  {
   "cell_type": "code",
   "execution_count": null,
   "id": "c4eb63c8",
   "metadata": {},
   "outputs": [],
   "source": []
  },
  {
   "cell_type": "code",
   "execution_count": null,
   "id": "7ae042ac",
   "metadata": {},
   "outputs": [],
   "source": []
  },
  {
   "cell_type": "code",
   "execution_count": null,
   "id": "b7281189",
   "metadata": {},
   "outputs": [],
   "source": []
  },
  {
   "cell_type": "code",
   "execution_count": null,
   "id": "709acab6",
   "metadata": {},
   "outputs": [],
   "source": []
  },
  {
   "cell_type": "code",
   "execution_count": null,
   "id": "84c74630",
   "metadata": {},
   "outputs": [],
   "source": []
  },
  {
   "cell_type": "code",
   "execution_count": null,
   "id": "53e3ae3e",
   "metadata": {},
   "outputs": [],
   "source": []
  },
  {
   "cell_type": "code",
   "execution_count": null,
   "id": "986d88b5",
   "metadata": {},
   "outputs": [],
   "source": []
  },
  {
   "cell_type": "code",
   "execution_count": null,
   "id": "bb3d4b63",
   "metadata": {},
   "outputs": [],
   "source": []
  },
  {
   "cell_type": "code",
   "execution_count": null,
   "id": "a4570fa1",
   "metadata": {},
   "outputs": [],
   "source": []
  },
  {
   "cell_type": "code",
   "execution_count": null,
   "id": "e2bf71b7",
   "metadata": {},
   "outputs": [],
   "source": []
  },
  {
   "cell_type": "code",
   "execution_count": null,
   "id": "41603dfc",
   "metadata": {},
   "outputs": [],
   "source": []
  },
  {
   "cell_type": "code",
   "execution_count": null,
   "id": "e7d6ebcb",
   "metadata": {},
   "outputs": [],
   "source": []
  },
  {
   "cell_type": "code",
   "execution_count": null,
   "id": "896539fc",
   "metadata": {},
   "outputs": [],
   "source": []
  },
  {
   "cell_type": "code",
   "execution_count": null,
   "id": "99e86cf0",
   "metadata": {},
   "outputs": [],
   "source": []
  },
  {
   "cell_type": "code",
   "execution_count": null,
   "id": "dc33dd2e",
   "metadata": {},
   "outputs": [],
   "source": []
  },
  {
   "cell_type": "code",
   "execution_count": null,
   "id": "0164196f",
   "metadata": {},
   "outputs": [],
   "source": []
  },
  {
   "cell_type": "code",
   "execution_count": null,
   "id": "3618a8b6",
   "metadata": {},
   "outputs": [],
   "source": []
  },
  {
   "cell_type": "code",
   "execution_count": null,
   "id": "dbe03a4d",
   "metadata": {},
   "outputs": [],
   "source": []
  },
  {
   "cell_type": "code",
   "execution_count": null,
   "id": "eafc2ba2",
   "metadata": {},
   "outputs": [],
   "source": []
  }
 ],
 "metadata": {
  "kernelspec": {
   "display_name": "dev",
   "language": "python",
   "name": "dev"
  },
  "language_info": {
   "codemirror_mode": {
    "name": "ipython",
    "version": 3
   },
   "file_extension": ".py",
   "mimetype": "text/x-python",
   "name": "python",
   "nbconvert_exporter": "python",
   "pygments_lexer": "ipython3",
   "version": "3.12.7"
  }
 },
 "nbformat": 4,
 "nbformat_minor": 5
}
