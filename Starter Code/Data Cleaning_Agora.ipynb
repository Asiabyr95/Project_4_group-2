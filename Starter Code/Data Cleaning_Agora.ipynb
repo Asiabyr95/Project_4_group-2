{
 "cells": [
  {
   "cell_type": "code",
   "execution_count": 1,
   "id": "41f73007-d67c-4d07-972b-130375864224",
   "metadata": {},
   "outputs": [],
   "source": [
    "import pandas as pd"
   ]
  },
  {
   "cell_type": "code",
   "execution_count": 2,
   "id": "f8805d3f-1f0d-46bd-9e79-621087855469",
   "metadata": {},
   "outputs": [
    {
     "name": "stdout",
     "output_type": "stream",
     "text": [
      "(109689, 9)\n",
      "<class 'pandas.core.frame.DataFrame'>\n",
      "RangeIndex: 109689 entries, 0 to 109688\n",
      "Data columns (total 9 columns):\n",
      " #   Column             Non-Null Count   Dtype \n",
      "---  ------             --------------   ----- \n",
      " 0   Vendor             109689 non-null  object\n",
      " 1    Category          109689 non-null  object\n",
      " 2    Item              109685 non-null  object\n",
      " 3    Item Description  109662 non-null  object\n",
      " 4    Price             109684 non-null  object\n",
      " 5    Origin            99807 non-null   object\n",
      " 6    Destination       60528 non-null   object\n",
      " 7    Rating            109674 non-null  object\n",
      " 8    Remarks           12616 non-null   object\n",
      "dtypes: object(9)\n",
      "memory usage: 7.5+ MB\n"
     ]
    }
   ],
   "source": [
    "df = pd.read_csv(\"Agora.csv\", encoding=\"latin1\")\n",
    "\n",
    "print(df.shape)\n",
    "df.info()"
   ]
  },
  {
   "cell_type": "code",
   "execution_count": 3,
   "id": "dea7d3b2-e9dd-4ee5-ba41-cec7f54e7f40",
   "metadata": {},
   "outputs": [
    {
     "name": "stdout",
     "output_type": "stream",
     "text": [
      "Index(['Vendor', ' Category', ' Item', ' Item Description', ' Price',\n",
      "       ' Origin', ' Destination', ' Rating', ' Remarks'],\n",
      "      dtype='object')\n"
     ]
    }
   ],
   "source": [
    "print(df.columns)"
   ]
  },
  {
   "cell_type": "code",
   "execution_count": 4,
   "id": "d056bfdd-34a4-48b7-8c2d-78df9b509832",
   "metadata": {},
   "outputs": [],
   "source": [
    "df = df.drop(columns=[' Remarks'])"
   ]
  },
  {
   "cell_type": "code",
   "execution_count": 5,
   "id": "04b3cfa6-baf4-4cff-9444-613124e07173",
   "metadata": {},
   "outputs": [
    {
     "name": "stdout",
     "output_type": "stream",
     "text": [
      "<class 'pandas.core.frame.DataFrame'>\n",
      "RangeIndex: 109689 entries, 0 to 109688\n",
      "Data columns (total 8 columns):\n",
      " #   Column             Non-Null Count   Dtype \n",
      "---  ------             --------------   ----- \n",
      " 0   Vendor             109689 non-null  object\n",
      " 1    Category          109689 non-null  object\n",
      " 2    Item              109685 non-null  object\n",
      " 3    Item Description  109662 non-null  object\n",
      " 4    Price             109684 non-null  object\n",
      " 5    Origin            99807 non-null   object\n",
      " 6    Destination       60528 non-null   object\n",
      " 7    Rating            109674 non-null  object\n",
      "dtypes: object(8)\n",
      "memory usage: 6.7+ MB\n"
     ]
    }
   ],
   "source": [
    "df.info()"
   ]
  },
  {
   "cell_type": "code",
   "execution_count": 6,
   "id": "0c9384f8-c829-47fc-9849-1ecc050309e6",
   "metadata": {},
   "outputs": [
    {
     "name": "stdout",
     "output_type": "stream",
     "text": [
      "['Services/Hacking' 'Services/Other' 'Drugs/RCs'\n",
      " 'Forgeries/Physical documents' 'Tobacco/Smoked' 'Services/Money'\n",
      " 'Counterfeits/Money' 'Data/Software' 'Data/Accounts'\n",
      " 'Counterfeits/Clothing' 'Information/eBooks' 'Electronics'\n",
      " 'Drug paraphernalia/Pipes' 'Drugs/Weight loss' 'Data/Pirated'\n",
      " 'Drugs/Steroids' 'Drugs/Prescription' 'Information/Guides'\n",
      " 'Forgeries/Scans/Photos' 'Other' 'Jewelry' 'Drugs/Other'\n",
      " 'Counterfeits/Accessories' 'Counterfeits/Watches' 'Drugs/Cannabis/Weed'\n",
      " 'Drugs/Benzos'\n",
      " 'the Body Bags  shotty  and Mac make-up To: Kind Hearts and Gentle People'\n",
      " 'Drugs/Cannabis/Shake/trim' 'Drugs/Cannabis/Synthetics'\n",
      " 'Drugs/Cannabis/Concentrates' 'Drugs/Cannabis/Seeds'\n",
      " 'Drugs/Cannabis/Hash' 'Drugs/Dissociatives/MXE'\n",
      " 'Drugs/Dissociatives/Ketamine' 'Drugs/Cannabis/Edibles'\n",
      " 'Drugs/Ecstasy/Pills' 'Drugs/Ecstasy/Other' 'Drugs/Stimulants/Meth'\n",
      " 'Drugs/Psychedelics/LSD' 'Drugs/Stimulants/Speed'\n",
      " 'Drugs/Dissociatives/GHB' 'Drugs/Stimulants/Cocaine'\n",
      " 'Drugs/Psychedelics/NB' 'Drugs/Psychedelics/Mushrooms'\n",
      " 'Drugs/Ecstasy/MDMA' 'Drugs/Psychedelics/DMT' 'Weapons/Lethal firearms'\n",
      " 'Drugs/Stimulants/Prescription' 'Drugs/Ecstasy/MDA'\n",
      " 'Drugs/Psychedelics/Others' 'Drugs/Psychedelics/Mescaline'\n",
      " 'Drugs/Psychedelics/2C' 'Drugs/Opioids' 'Info/eBooks/Anonymity'\n",
      " 'Info/eBooks/Relationships/Sex' 'Drug paraphernalia/Stashes'\n",
      " 'Info/eBooks/Economy' 'Services/Advertising' 'Info/eBooks/Politics'\n",
      " 'Drugs/Opioids/Morphine' 'Drugs/Opioids/Other' 'Drugs/Opioids/Heroin'\n",
      " 'Info/eBooks/Science' 'Weapons/Melee' 'Info/eBooks/Other'\n",
      " 'Info/eBooks/Drugs' 'Drugs/Opioids/Fentanyl' 'Drugs/Opioids/Oxycodone'\n",
      " 'Drugs/Psychedelics/5-MeO' 'Drugs/Opioids/Buprenorphine'\n",
      " 'Drug paraphernalia/Containers' 'Drugs/Psychedelics/Other'\n",
      " 'Info/eBooks/Doomsday' 'Info/eBooks/IT' 'Info/eBooks/Psychology'\n",
      " 'Info/eBooks/Making money' 'Weapons/Non-lethal firearms'\n",
      " 'Tobacco/Paraphernalia' 'Forgeries/Other' 'Weapons/Ammunition'\n",
      " 'home of the Body Bags  shotty  and mag  Kind Hearts and Gentle People'\n",
      " 'Forgeries' 'Chemicals' 'Drugs/Psychedelics/Spores'\n",
      " 'Drugs/Opioids/Hydrocodone' 'Info/eBooks/Philosophy'\n",
      " 'Drugs/Dissociatives/Other' '0.12780125125 BTC' 'Drugs/Opioids/Codeine'\n",
      " 'Drug paraphernalia/Grinders' 'Info/eBooks/Aliens/UFOs'\n",
      " 'Drug paraphernalia/Paper' 'Services/Travel' '0.1905617980645162 BTC'\n",
      " 'Drugs/Opioids/Dihydrocodeine' 'Drugs/Stimulants/Mephedrone'\n",
      " 'the Body Bags  shotty  and mag To: Kind Hearts and Gentle People'\n",
      " 'Drugs/Dissociatives/GBL' 'Counterfeits/Electronics'\n",
      " 'Drug paraphernalia/Injecting equipment/Syringes' 'Drugs/Opioids/Opium'\n",
      " 'Drug paraphernalia/Injecting equipment/Other'\n",
      " 'Drugs/Psychedelics/Salvia' 'Drugs/Barbiturates' 'Weapons/Fireworks'\n",
      " 'Drug paraphernalia/Scales'\n",
      " 'Drug paraphernalia/Injecting equipment/Filters'\n",
      " 'Drug paraphernalia/Injecting equipment/Needles'\n",
      " 'Drugs/Dissociatives/PCP']\n"
     ]
    }
   ],
   "source": [
    "print(df[\" Category\"].unique())"
   ]
  },
  {
   "cell_type": "code",
   "execution_count": 7,
   "id": "b545b698-2286-40ca-ad53-c206aa7c6ded",
   "metadata": {},
   "outputs": [
    {
     "name": "stdout",
     "output_type": "stream",
     "text": [
      "       Vendor   Category                               Item  \\\n",
      "124  mssource  Drugs/RCs                    4-FMA...!! 1 KG   \n",
      "125      FREE  Drugs/RCs  200gr. 2 FMA FREE SHIP WITH TRACK   \n",
      "126  mssource  Drugs/RCs                     3-FA...!! 1 KG   \n",
      "127  mssource  Drugs/RCs                MDDMV...!! 500 GRAM   \n",
      "128  mssource  Drugs/RCs                  3-FA...!! 20 GRAM   \n",
      "\n",
      "                                      Item Description  \\\n",
      "124  PLZ ALWAYS READ MAIN PROFILE BEFORE ORDER ****...   \n",
      "125  2-Fluoromethamphetamine (2-FMA) is a stimulant...   \n",
      "126  PLZ ALWAYS READ MAIN PROFILE BEFORE ORDER ****...   \n",
      "127  PLZ ALWAYS READ MAIN PROFILE BEFORE ORDER ****...   \n",
      "128  PLZ ALWAYS READ MAIN PROFILE BEFORE ORDER ****...   \n",
      "\n",
      "                      Price  Origin  Destination  Rating  \n",
      "124  7.5582225319999985 BTC   World    WORLDWIDE  4.95/5  \n",
      "125  3.3681170859374996 BTC   China          NaN  5.00/5  \n",
      "126   7.670203622941176 BTC   World    WORLDWIDE  4.95/5  \n",
      "127   4.804303127037037 BTC   World    WORLDWIDE  4.95/5  \n",
      "128  0.8006436744444447 BTC   World    WORLDWIDE  4.95/5  \n"
     ]
    }
   ],
   "source": [
    "# Assuming the category column is named 'category'\n",
    "filtered_df = df[df[' Category'].str.startswith(\"Drugs/\", na=False)]\n",
    "\n",
    "# Display the filtered dataset\n",
    "print(filtered_df.head())"
   ]
  },
  {
   "cell_type": "code",
   "execution_count": 9,
   "id": "05167335-0fdf-4e41-8e4f-6ffa4c29f13a",
   "metadata": {},
   "outputs": [],
   "source": [
    "#Save the filtered data\n",
    "filtered_df.to_csv(\"Agora_Clean1.csv\", index=False)"
   ]
  },
  {
   "cell_type": "code",
   "execution_count": null,
   "id": "9dc21913-8089-487d-a7f0-882c28bc916a",
   "metadata": {},
   "outputs": [],
   "source": []
  }
 ],
 "metadata": {
  "kernelspec": {
   "display_name": "dev",
   "language": "python",
   "name": "dev"
  },
  "language_info": {
   "codemirror_mode": {
    "name": "ipython",
    "version": 3
   },
   "file_extension": ".py",
   "mimetype": "text/x-python",
   "name": "python",
   "nbconvert_exporter": "python",
   "pygments_lexer": "ipython3",
   "version": "3.10.15"
  }
 },
 "nbformat": 4,
 "nbformat_minor": 5
}
